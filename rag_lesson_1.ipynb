{
 "cells": [
  {
   "cell_type": "markdown",
   "id": "be55cc1272209248",
   "metadata": {},
   "source": [
    "## 1. 模块库的引入"
   ]
  },
  {
   "cell_type": "code",
   "id": "e0067478-6686-4464-882f-1c880cd6c25a",
   "metadata": {
    "ExecuteTime": {
     "end_time": "2025-03-06T02:28:44.891334Z",
     "start_time": "2025-03-06T02:28:43.070391Z"
    }
   },
   "source": [
    "from langchain_community.document_loaders import PyPDFLoader  # PDF文档提取\n",
    "from langchain_text_splitters import RecursiveCharacterTextSplitter  # 文档拆分chunk\n",
    "import faiss  # faiss向量库\n",
    "import numpy as np  # 处理嵌入向量数据，用于faiss向量检索\n",
    "import os  # 引入操作系统库，后续配置环境变量和获取文件路径\n",
    "from dotenv import load_dotenv\n",
    "\n",
    "load_dotenv()\n",
    "os.environ[\"TOKENIZERS_PARALLELISM\"] = \"false\"  # 不使用分词并行化操作，避免多线程或多进程环境中运行多个模型引发冲突\n",
    "\n",
    "# 设置Qwen系列具体模型及对应的调用API密钥，从硅基流动大模型服务平台获得\n",
    "chat_model = os.getenv('chat_model')\n",
    "embed_model = os.getenv('embed_model')\n",
    "api_key = os.getenv('api_key')\n",
    "base_url = os.getenv('base_url')"
   ],
   "outputs": [
    {
     "name": "stderr",
     "output_type": "stream",
     "text": [
      "Python-dotenv could not parse statement starting at line 1\n"
     ]
    }
   ],
   "execution_count": 1
  },
  {
   "cell_type": "markdown",
   "id": "867cf12314c515b8",
   "metadata": {},
   "source": "## 2. 索引流程"
  },
  {
   "cell_type": "code",
   "id": "95cc23f8948079c7",
   "metadata": {
    "ExecuteTime": {
     "end_time": "2025-03-06T02:28:45.657998Z",
     "start_time": "2025-03-06T02:28:44.932481Z"
    }
   },
   "source": [
    "from openai import OpenAI"
   ],
   "outputs": [],
   "execution_count": 2
  },
  {
   "metadata": {},
   "cell_type": "markdown",
   "source": "### 2.1 获取文本嵌入",
   "id": "e27aed166830c785"
  },
  {
   "metadata": {
    "ExecuteTime": {
     "end_time": "2025-03-06T02:28:46.229227Z",
     "start_time": "2025-03-06T02:28:46.221948Z"
    }
   },
   "cell_type": "code",
   "source": [
    "def load_embedding_model():\n",
    "    \"\"\"\n",
    "    加载bge-m3模型\n",
    "    :return: 返回bge-m3模型嵌入的结果\n",
    "    \"\"\"\n",
    "    client = OpenAI(\n",
    "            api_key=api_key, # 从https://cloud.siliconflow.cn/account/ak获取\n",
    "            base_url=base_url\n",
    "        )\n",
    "    print(f\"加载Embedding模型中\")\n",
    "\n",
    "    def get_embedding(text):\n",
    "       text = text.replace(\"\\n\", \" \")\n",
    "       return client.embeddings.create(input = [text], model=embed_model).data[0].embedding\n",
    "\n",
    "    return get_embedding"
   ],
   "id": "daa9fec27d0973aa",
   "outputs": [],
   "execution_count": 3
  },
  {
   "metadata": {},
   "cell_type": "markdown",
   "source": "### 2.2 建立索引，即把文本嵌入写入FAISS向量数据库",
   "id": "54e0ccf4455ff89b"
  },
  {
   "cell_type": "code",
   "id": "7a5bcf10be91c245",
   "metadata": {
    "ExecuteTime": {
     "end_time": "2025-03-06T02:28:46.250990Z",
     "start_time": "2025-03-06T02:28:46.242710Z"
    }
   },
   "source": [
    "def indexing_process(pdf_file, embedding_model):\n",
    "    \"\"\"\n",
    "    索引流程：加载PDF文件，并将其内容分割成小块，计算这些小块的嵌入向量并将其存储在FAISS向量数据库中。\n",
    "    :param pdf_file: PDF文件路径\n",
    "    :param embedding_model: 预加载的嵌入模型\n",
    "    :return: 返回Faiss嵌入向量索引和分割后的文本块原始内容列表\n",
    "    \"\"\"\n",
    "    # PyPDFLoader加载PDF文件，忽略图片提取\n",
    "    pdf_loader = PyPDFLoader(pdf_file, extract_images=False)\n",
    "    # 配置RecursiveCharacterTextSplitter分割文本块库参数，每个文本块的大小为512字符（非token），相邻文本块之间的重叠128字符（非token）\n",
    "    text_splitter = RecursiveCharacterTextSplitter(\n",
    "        chunk_size=512, chunk_overlap=128\n",
    "    )\n",
    "    # 加载PDF文档,提取所有页的文本内容\n",
    "    pdf_content_list = pdf_loader.load()\n",
    "    # 将每页的文本内容用换行符连接，合并为PDF文档的完整文本\n",
    "    pdf_text = \"\\n\".join([page.page_content for page in pdf_content_list])\n",
    "    print(f\"PDF文档的总字符数: {len(pdf_text)}\")\n",
    "\n",
    "    # 将PDF文档文本分割成文本块Chunk\n",
    "    chunks = text_splitter.split_text(pdf_text)\n",
    "    print(f\"分割的文本Chunk数量: {len(chunks)}\")\n",
    "\n",
    "    # 文本块转化为嵌入向量列表，normalize_embeddings表示对嵌入向量进行归一化，用于准确计算相似度\n",
    "    embeddings = []\n",
    "    for chunk in chunks:\n",
    "        embedding = embedding_model(chunk)\n",
    "        embeddings.append(embedding)\n",
    "\n",
    "    print(\"文本块Chunk转化为嵌入向量完成\")\n",
    "\n",
    "    # 将嵌入向量列表转化为numpy数组，Faiss向量库操作需要numpy数组输入\n",
    "    embeddings_np = np.array(embeddings)\n",
    "\n",
    "    # 获取嵌入向量的维度（每个向量的长度）\n",
    "    dimension = embeddings_np.shape[1]\n",
    "\n",
    "    # 使用余弦相似度创建FAISS索引\n",
    "    index = faiss.IndexFlatIP(dimension)\n",
    "    # 将所有的嵌入向量添加到FAISS索引中，后续可以用来进行相似性检索\n",
    "    index.add(embeddings_np)\n",
    "\n",
    "    print(\"索引过程完成.\")\n",
    "\n",
    "    return index, chunks"
   ],
   "outputs": [],
   "execution_count": 4
  },
  {
   "metadata": {},
   "cell_type": "markdown",
   "source": "## 3. 检索流程",
   "id": "bb8e383da8038290"
  },
  {
   "metadata": {
    "ExecuteTime": {
     "end_time": "2025-03-06T02:28:46.333100Z",
     "start_time": "2025-03-06T02:28:46.326084Z"
    }
   },
   "cell_type": "code",
   "source": [
    "def retrieval_process(query, index, chunks, embedding_model, top_k=3):\n",
    "    \"\"\"\n",
    "    检索流程：将用户查询Query转化为嵌入向量，并在Faiss索引中检索最相似的前k个文本块。\n",
    "    :param query: 用户查询语句\n",
    "    :param index: 已建立的Faiss向量索引\n",
    "    :param chunks: 原始文本块内容列表\n",
    "    :param embedding_model: 预加载的嵌入模型\n",
    "    :param top_k: 返回最相似的前K个结果\n",
    "    :return: 返回最相似的文本块及其相似度得分\n",
    "    \"\"\"\n",
    "    # 将查询转化为嵌入向量\n",
    "    query_embedding = embedding_model(query)\n",
    "    # 将嵌入向量转化为numpy数组，Faiss索引操作需要numpy数组输入\n",
    "    query_embedding = np.array([query_embedding])\n",
    "\n",
    "    # 在 Faiss 索引中使用 query_embedding 进行搜索，检索出最相似的前 top_k 个结果。\n",
    "    # 返回查询向量与每个返回结果之间的相似度得分（在使用余弦相似度时，值越大越相似）排名列表distances，最相似的 top_k 个文本块在原始 chunks 列表中的索引indices。\n",
    "    distances, indices = index.search(query_embedding, top_k)\n",
    "\n",
    "    print(f\"查询语句: {query}\")\n",
    "    print(f\"最相似的前{top_k}个文本块:\")\n",
    "\n",
    "    # 输出查询出的top_k个文本块及其相似度得分\n",
    "    results = []\n",
    "    for i in range(top_k):\n",
    "        # 获取相似文本块的原始内容\n",
    "        result_chunk = chunks[indices[0][i]]\n",
    "        print(f\"文本块 {i}:\\n{result_chunk}\")\n",
    "\n",
    "        # 获取相似文本块的相似度得分\n",
    "        result_distance = distances[0][i]\n",
    "        print(f\"相似度得分: {result_distance}\\n\")\n",
    "\n",
    "        # 将相似文本块存储在结果列表中\n",
    "        results.append(result_chunk)\n",
    "\n",
    "    print(\"检索过程完成.\")\n",
    "    return results"
   ],
   "id": "c17d1ee1ebd2d3ad",
   "outputs": [],
   "execution_count": 5
  },
  {
   "metadata": {},
   "cell_type": "markdown",
   "source": "## 4. 生成流程",
   "id": "37757a835a152adc"
  },
  {
   "metadata": {
    "ExecuteTime": {
     "end_time": "2025-03-06T02:28:46.351028Z",
     "start_time": "2025-03-06T02:28:46.343197Z"
    }
   },
   "cell_type": "code",
   "source": [
    "def generate_process(query, chunks):\n",
    "    \"\"\"\n",
    "    生成流程：调用Qwen大模型云端API，根据查询和文本块生成最终回复。\n",
    "    :param query: 用户查询语句\n",
    "    :param chunks: 从检索过程中获得的相关文本块上下文chunks\n",
    "    :return: 返回生成的响应内容\n",
    "    \"\"\"\n",
    "    # 构建参考文档内容，格式为“参考文档1: \\n 参考文档2: \\n ...”等\n",
    "    context = \"\"\n",
    "    for i, chunk in enumerate(chunks):\n",
    "        context += f\"参考文档{i+1}: \\n{chunk}\\n\\n\"\n",
    "\n",
    "    # 构建生成模型所需的Prompt，包含用户查询和检索到的上下文\n",
    "    prompt = f\"根据参考文档回答问题：{query}\\n\\n{context}\"\n",
    "    print(f\"生成模型的Prompt: {prompt}\")\n",
    "\n",
    "    # 准备请求消息，将prompt作为输入\n",
    "    messages = [{'role': 'user', 'content': prompt}]\n",
    "\n",
    "    # 调用大模型API实例化大语言模型\n",
    "    client = OpenAI(\n",
    "        api_key=api_key, # 从https://cloud.siliconflow.cn/account/ak获取\n",
    "        base_url=base_url\n",
    "    )\n",
    "\n",
    "    try:\n",
    "        # 使用大模型生成响应\n",
    "        responses = client.chat.completions.create(\n",
    "        model=chat_model,\n",
    "        messages = messages,\n",
    "        temperature=0.01,\n",
    "        top_p=0.95,\n",
    "        stream=False,\n",
    "        )\n",
    "\n",
    "        print(\"生成过程开始:\")\n",
    "        # 流式响应\n",
    "        # 初始化变量以存储生成的响应内容\n",
    "        # generated_response = \"\"\n",
    "\n",
    "        # # 逐步获取和处理模型的增量输出\n",
    "        # for response in responses:\n",
    "        #     response = response.choices[0].delta.content\n",
    "        #     if response is not None:\n",
    "        #         generated_response+=response\n",
    "        #         print(response, end=\"\")\n",
    "\n",
    "        # 非流式响应\n",
    "        generated_response = responses.choices[0].message.content\n",
    "        print(generated_response)\n",
    "\n",
    "        print(\"\\n生成过程完成.\")\n",
    "        return generated_response\n",
    "    except Exception as e:\n",
    "        print(f\"大模型生成过程中发生错误: {e}\")\n",
    "        return None"
   ],
   "id": "a6905578d4df5daa",
   "outputs": [],
   "execution_count": 6
  },
  {
   "metadata": {},
   "cell_type": "markdown",
   "source": "## 5. 执行整个流程",
   "id": "79bb2b8ae729f8aa"
  },
  {
   "metadata": {
    "ExecuteTime": {
     "end_time": "2025-03-06T02:28:46.411836Z",
     "start_time": "2025-03-06T02:28:46.406745Z"
    }
   },
   "cell_type": "code",
   "source": [
    "print(\"RAG过程开始.\")\n",
    "query=\"下面报告中涉及了哪几个行业的案例以及总结各自面临的挑战？\""
   ],
   "id": "34b6aff568263809",
   "outputs": [
    {
     "name": "stdout",
     "output_type": "stream",
     "text": [
      "RAG过程开始.\n"
     ]
    }
   ],
   "execution_count": 7
  },
  {
   "metadata": {},
   "cell_type": "markdown",
   "source": "### 1. 执行索引过程",
   "id": "9508e1e0816b7479"
  },
  {
   "cell_type": "code",
   "id": "7ee913c5-b621-451e-bd9f-0a1956aff4e2",
   "metadata": {
    "scrolled": true,
    "ExecuteTime": {
     "end_time": "2025-03-06T02:28:53.245438Z",
     "start_time": "2025-03-06T02:28:47.762166Z"
    }
   },
   "source": [
    "embedding_model = load_embedding_model()\n",
    "\n",
    "# 索引流程：加载PDF文件，分割文本块，计算嵌入向量，存储在FAISS向量库中（内存）\n",
    "index, chunks = indexing_process('data/lesson1.pdf', embedding_model)"
   ],
   "outputs": [
    {
     "name": "stdout",
     "output_type": "stream",
     "text": [
      "加载Embedding模型中\n",
      "PDF文档的总字符数: 9163\n",
      "分割的文本Chunk数量: 24\n",
      "文本块Chunk转化为嵌入向量完成\n",
      "索引过程完成.\n"
     ]
    }
   ],
   "execution_count": 8
  },
  {
   "metadata": {},
   "cell_type": "markdown",
   "source": "### 2. 执行检索过程",
   "id": "fdf91d4bab4a4b09"
  },
  {
   "metadata": {
    "ExecuteTime": {
     "end_time": "2025-03-06T02:28:53.401782Z",
     "start_time": "2025-03-06T02:28:53.252748Z"
    }
   },
   "cell_type": "code",
   "source": [
    "# 检索流程：将用户查询转化为嵌入向量，检索最相似的文本块\n",
    "retrieval_chunks = retrieval_process(query, index, chunks, embedding_model)"
   ],
   "id": "8f1a6cb6c1ff99f3",
   "outputs": [
    {
     "name": "stdout",
     "output_type": "stream",
     "text": [
      "查询语句: 下面报告中涉及了哪几个行业的案例以及总结各自面临的挑战？\n",
      "最相似的前3个文本块:\n",
      "文本块 0:\n",
      "面的数字化转型。\n",
      "2.3.2 面临的挑战\n",
      "在数字化转型之前，金融业案例中银行面临以下主要挑战：客户服务模式过时，主要依赖实\n",
      "体网点，导致服务效率低、客户体验差；金融科技企业带来巨大竞争压力，凭借创新技术和\n",
      "便捷服务吸引大量客户，尤其是年轻一代；数据孤岛和风险管理滞后，各业务部门缺乏数据\n",
      "共享机制，导致信息无法整合，风险管理效率低。\n",
      "2.3.3 数字化转型解决方案\n",
      "为应对金融业案例挑战，银行实施了多方面的数字化转型措施：首先，构建数字化银行平台，\n",
      "推出移动银行应用、在线服务、虚拟客服和智能理财顾问，显著提升了服务便捷性和客户满\n",
      "意度；其次，引入人工智能和大数据分析技术，通过个性化金融产品推荐和实时风险监控，\n",
      "提升客户服务质量和风险管理能力。\n",
      "相似度得分: 0.5160303115844727\n",
      "\n",
      "文本块 1:\n",
      "发展和应用，企业在环境保护和可持续发展领域的能力将进一步增强，为全球的可持续发展\n",
      "目标做出更大的贡献。这不仅有助于企业在激烈的市场竞争中保持领先地位，还将推动全社\n",
      "会向着更加绿色、更加可持续的未来迈进。\n",
      "1.3 总结\n",
      "总的来说，数字化转型不仅是企业应对当前市场挑战的一种战略选择，更是通向未来的必由\n",
      "之路。成功的数字化转型将帮助企业提升核心竞争力，优化客户体验，并在全球经济中获得\n",
      "长期的可持续发展。\n",
      "2. 案例分析\n",
      "2.1 案例一：制造业的数字化转型\n",
      "2.1.1 公司背景\n",
      "制造业案例介绍了一家成立于 20 世纪初的德国老牌汽车制造公司，拥有悠久的历史和丰富\n",
      "的制造经验。面对日益激烈的市场竞争和消费者需求的变化，公司意识到传统制造模式已无\n",
      "法适应现代市场需求，因而决定实施全面的数字化转型，以保持竞争力。\n",
      "2.1.2 面临的挑战\n",
      "在数字化转型之前，制造业案例公司面临多重挑战：生产效率低下，传统制造流程依赖人工，\n",
      "导致效率低且易出错；供应链复杂，涉及多个国家和地区，信息传递不及时，造成库存管理\n",
      "困难，甚至存在供应链断裂的风险；客户需求变化快，传统大规模生产方式无法满足市场对\n",
      "个性化定制产品的需求。\n",
      "相似度得分: 0.5159369707107544\n",
      "\n",
      "文本块 2:\n",
      "统一、客户体验不一致，难以提供无缝购物体验；数据利用率低，尽管拥有大量消费者和销\n",
      "售数据，但缺乏先进的数据分析工具，未能转化为可操作的商业洞察。\n",
      "2.2.3 数字化转型解决方案\n",
      "为了解决零售业案例的线上线下渠道割裂、数据利用率低、供应链效率低下和客户体验滞后\n",
      "等问题，公司实施了一系列数字化转型措施：首先，构建全渠道零售平台，实现线上与线下\n",
      "购物渠道的无缝整合，提升顾客的便利性和满意度；其次，引入大数据和人工智能驱动的分\n",
      "析平台，精准预测需求、优化库存，并提供个性化产品推荐和营销活动。\n",
      "2.3 案例三：金融业的数字化转型\n",
      "2.3.1 公司背景\n",
      "金融业案例中的金融机构是一家全球知名的银行，成立已有百年历史。随着金融科技\n",
      "（FinTech）的迅速发展以及消费者对在线金融服务需求的增加，传统银行业务模式面临前\n",
      "所未有的挑战。为了保持市场竞争力并满足客户日益增长的数字化需求，该银行决定开展全\n",
      "面的数字化转型。\n",
      "2.3.2 面临的挑战\n",
      "在数字化转型之前，金融业案例中银行面临以下主要挑战：客户服务模式过时，主要依赖实\n",
      "体网点，导致服务效率低、客户体验差；金融科技企业带来巨大竞争压力，凭借创新技术和\n",
      "相似度得分: 0.5055682063102722\n",
      "\n",
      "检索过程完成.\n"
     ]
    }
   ],
   "execution_count": 9
  },
  {
   "metadata": {},
   "cell_type": "markdown",
   "source": "### 3. 生成回答",
   "id": "a574a71d71196272"
  },
  {
   "cell_type": "code",
   "id": "da8e1e60e850c583",
   "metadata": {
    "ExecuteTime": {
     "end_time": "2025-03-06T02:29:42.314537Z",
     "start_time": "2025-03-06T02:29:22.532708Z"
    }
   },
   "source": [
    "# 生成流程：调用Qwen大模型生成响应\n",
    "generate_process(query, retrieval_chunks)\n",
    "\n",
    "print(\"RAG过程结束.\")"
   ],
   "outputs": [
    {
     "name": "stdout",
     "output_type": "stream",
     "text": [
      "生成模型的Prompt: 根据参考文档回答问题：下面报告中涉及了哪几个行业的案例以及总结各自面临的挑战？\n",
      "\n",
      "参考文档1: \n",
      "面的数字化转型。\n",
      "2.3.2 面临的挑战\n",
      "在数字化转型之前，金融业案例中银行面临以下主要挑战：客户服务模式过时，主要依赖实\n",
      "体网点，导致服务效率低、客户体验差；金融科技企业带来巨大竞争压力，凭借创新技术和\n",
      "便捷服务吸引大量客户，尤其是年轻一代；数据孤岛和风险管理滞后，各业务部门缺乏数据\n",
      "共享机制，导致信息无法整合，风险管理效率低。\n",
      "2.3.3 数字化转型解决方案\n",
      "为应对金融业案例挑战，银行实施了多方面的数字化转型措施：首先，构建数字化银行平台，\n",
      "推出移动银行应用、在线服务、虚拟客服和智能理财顾问，显著提升了服务便捷性和客户满\n",
      "意度；其次，引入人工智能和大数据分析技术，通过个性化金融产品推荐和实时风险监控，\n",
      "提升客户服务质量和风险管理能力。\n",
      "\n",
      "参考文档2: \n",
      "发展和应用，企业在环境保护和可持续发展领域的能力将进一步增强，为全球的可持续发展\n",
      "目标做出更大的贡献。这不仅有助于企业在激烈的市场竞争中保持领先地位，还将推动全社\n",
      "会向着更加绿色、更加可持续的未来迈进。\n",
      "1.3 总结\n",
      "总的来说，数字化转型不仅是企业应对当前市场挑战的一种战略选择，更是通向未来的必由\n",
      "之路。成功的数字化转型将帮助企业提升核心竞争力，优化客户体验，并在全球经济中获得\n",
      "长期的可持续发展。\n",
      "2. 案例分析\n",
      "2.1 案例一：制造业的数字化转型\n",
      "2.1.1 公司背景\n",
      "制造业案例介绍了一家成立于 20 世纪初的德国老牌汽车制造公司，拥有悠久的历史和丰富\n",
      "的制造经验。面对日益激烈的市场竞争和消费者需求的变化，公司意识到传统制造模式已无\n",
      "法适应现代市场需求，因而决定实施全面的数字化转型，以保持竞争力。\n",
      "2.1.2 面临的挑战\n",
      "在数字化转型之前，制造业案例公司面临多重挑战：生产效率低下，传统制造流程依赖人工，\n",
      "导致效率低且易出错；供应链复杂，涉及多个国家和地区，信息传递不及时，造成库存管理\n",
      "困难，甚至存在供应链断裂的风险；客户需求变化快，传统大规模生产方式无法满足市场对\n",
      "个性化定制产品的需求。\n",
      "\n",
      "参考文档3: \n",
      "统一、客户体验不一致，难以提供无缝购物体验；数据利用率低，尽管拥有大量消费者和销\n",
      "售数据，但缺乏先进的数据分析工具，未能转化为可操作的商业洞察。\n",
      "2.2.3 数字化转型解决方案\n",
      "为了解决零售业案例的线上线下渠道割裂、数据利用率低、供应链效率低下和客户体验滞后\n",
      "等问题，公司实施了一系列数字化转型措施：首先，构建全渠道零售平台，实现线上与线下\n",
      "购物渠道的无缝整合，提升顾客的便利性和满意度；其次，引入大数据和人工智能驱动的分\n",
      "析平台，精准预测需求、优化库存，并提供个性化产品推荐和营销活动。\n",
      "2.3 案例三：金融业的数字化转型\n",
      "2.3.1 公司背景\n",
      "金融业案例中的金融机构是一家全球知名的银行，成立已有百年历史。随着金融科技\n",
      "（FinTech）的迅速发展以及消费者对在线金融服务需求的增加，传统银行业务模式面临前\n",
      "所未有的挑战。为了保持市场竞争力并满足客户日益增长的数字化需求，该银行决定开展全\n",
      "面的数字化转型。\n",
      "2.3.2 面临的挑战\n",
      "在数字化转型之前，金融业案例中银行面临以下主要挑战：客户服务模式过时，主要依赖实\n",
      "体网点，导致服务效率低、客户体验差；金融科技企业带来巨大竞争压力，凭借创新技术和\n",
      "\n",
      "\n",
      "生成过程开始:\n",
      "根据提供的参考文档，报告中涉及了三个行业的案例，分别是金融业、制造业和零售业。以下是各自面临的挑战总结：\n",
      "\n",
      "1. **金融业**：\n",
      "   - 客户服务模式过时，主要依赖实体网点，导致服务效率低、客户体验差。\n",
      "   - 金融科技企业带来巨大竞争压力，凭借创新技术和便捷服务吸引大量客户，尤其是年轻一代。\n",
      "   - 数据孤岛和风险管理滞后，各业务部门缺乏数据共享机制，导致信息无法整合，风险管理效率低。\n",
      "\n",
      "2. **制造业**：\n",
      "   - 生产效率低下，传统制造流程依赖人工，导致效率低且易出错。\n",
      "   - 供应链复杂，涉及多个国家和地区，信息传递不及时，造成库存管理困难，甚至存在供应链断裂的风险。\n",
      "   - 客户需求变化快，传统大规模生产方式无法满足市场对个性化定制产品的需求。\n",
      "\n",
      "3. **零售业**：\n",
      "   - 线上线下渠道割裂，导致客户体验不一致，难以提供无缝购物体验。\n",
      "   - 数据利用率低，尽管拥有大量消费者和销售数据，但缺乏先进的数据分析工具，未能转化为可操作的商业洞察。\n",
      "\n",
      "这些挑战反映了不同行业在数字化转型过程中所面临的共性和特定问题，需要通过相应的数字化转型措施来解决。\n",
      "\n",
      "生成过程完成.\n",
      "RAG过程结束.\n"
     ]
    }
   ],
   "execution_count": 10
  },
  {
   "metadata": {},
   "cell_type": "code",
   "outputs": [],
   "execution_count": null,
   "source": "",
   "id": "d80474a81c72044f"
  }
 ],
 "metadata": {
  "kernelspec": {
   "display_name": "rag env",
   "language": "python",
   "name": "rag"
  },
  "language_info": {
   "codemirror_mode": {
    "name": "ipython",
    "version": 3
   },
   "file_extension": ".py",
   "mimetype": "text/x-python",
   "name": "python",
   "nbconvert_exporter": "python",
   "pygments_lexer": "ipython3",
   "version": "3.11.11"
  }
 },
 "nbformat": 4,
 "nbformat_minor": 5
}
